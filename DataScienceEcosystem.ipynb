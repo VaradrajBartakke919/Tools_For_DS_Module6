{
 "cells": [
  {
   "cell_type": "markdown",
   "id": "3a362275-132b-4622-a44f-80099ff74618",
   "metadata": {},
   "source": [
    "# Data Science Tools and Ecosystem"
   ]
  },
  {
   "cell_type": "markdown",
   "id": "03cd6eb0-157a-4826-895c-3aa296aaf0a1",
   "metadata": {},
   "source": [
    "In this notebook, Data Science Tools and Ecosystem are summarized."
   ]
  },
  {
   "cell_type": "markdown",
   "id": "32f483d8-b62f-49a2-a6aa-abf6f0ce6a0e",
   "metadata": {},
   "source": [
    "# ***Objectives:***"
   ]
  },
  {
   "cell_type": "markdown",
   "id": "3b21e3ef-1031-438d-8673-fcf448c27ac9",
   "metadata": {},
   "source": [
    "- Popular languages that Data Scientists use\n",
    "- Commonly used libraries used by Data Scientists\n",
    "- Examples of evaluating arithmetic expressions in Python"
   ]
  },
  {
   "cell_type": "markdown",
   "id": "2cd71eb8-23ec-4e33-940e-30518ee4c707",
   "metadata": {},
   "source": [
    "## Author"
   ]
  },
  {
   "cell_type": "markdown",
   "id": "43178298-612b-4a63-8348-0a6d0813cea6",
   "metadata": {},
   "source": [
    "###### Varadraj Bartakke"
   ]
  },
  {
   "cell_type": "markdown",
   "id": "f70cd7f3-a2e5-42c9-9d47-2a493ff78d71",
   "metadata": {},
   "source": [
    "Some of the popular languages that Data Scientists use are:"
   ]
  },
  {
   "cell_type": "markdown",
   "id": "bc887e6c-ec05-4c8a-881e-5833ddeacddb",
   "metadata": {},
   "source": [
    "1. Julia.\n",
    "2. Python.\n",
    "3. R."
   ]
  },
  {
   "cell_type": "markdown",
   "id": "706581ea-c090-4a51-8ef4-ef2dfd3dcd67",
   "metadata": {},
   "source": [
    "Some of the commonly used libraries used by Data Scientists include:"
   ]
  },
  {
   "cell_type": "markdown",
   "id": "905bf041-9957-4036-8b24-3322765ca671",
   "metadata": {},
   "source": [
    "1. Pandas.\n",
    "2. Numpy.\n",
    "3. Matplotlib."
   ]
  },
  {
   "cell_type": "markdown",
   "id": "46ed323b-1ac5-4d46-b994-119c5bc7e55e",
   "metadata": {},
   "source": [
    "|Data Science Tools|\n",
    "|------------------|\n",
    "|Jupyter|\n",
    "|VS Code|\n",
    "|Jupyter Lab|"
   ]
  },
  {
   "cell_type": "markdown",
   "id": "87be2b36-a4e8-4825-95e4-d754cba40314",
   "metadata": {},
   "source": [
    "### Below are a few examples of evaluating arithmetic expressions in Python"
   ]
  },
  {
   "cell_type": "code",
   "execution_count": 17,
   "id": "f332d032-4637-470d-b15b-43a8d17bf49a",
   "metadata": {},
   "outputs": [],
   "source": [
    "#This a simple arithmetic expression to mutiply then add integers"
   ]
  },
  {
   "cell_type": "code",
   "execution_count": 13,
   "id": "ab0bb1f1-5e67-4ac5-bde2-daf0ea4dc036",
   "metadata": {},
   "outputs": [
    {
     "data": {
      "text/plain": [
       "17"
      ]
     },
     "execution_count": 13,
     "metadata": {},
     "output_type": "execute_result"
    }
   ],
   "source": [
    "(3*4)+5"
   ]
  },
  {
   "cell_type": "code",
   "execution_count": 19,
   "id": "9aac4172-443d-4a7f-a54f-ce3df8d4eb2c",
   "metadata": {},
   "outputs": [],
   "source": [
    "#This will convert 200 minutes to hours by diving by 60"
   ]
  },
  {
   "cell_type": "code",
   "execution_count": 37,
   "id": "a7fb3fdf-227b-4536-b0fe-ebb208845cf3",
   "metadata": {},
   "outputs": [
    {
     "data": {
      "text/plain": [
       "3.3333333333333335"
      ]
     },
     "execution_count": 37,
     "metadata": {},
     "output_type": "execute_result"
    }
   ],
   "source": [
    "200/60"
   ]
  }
 ],
 "metadata": {
  "kernelspec": {
   "display_name": "Python 3",
   "language": "python",
   "name": "python3"
  },
  "language_info": {
   "codemirror_mode": {
    "name": "ipython",
    "version": 3
   },
   "file_extension": ".py",
   "mimetype": "text/x-python",
   "name": "python",
   "nbconvert_exporter": "python",
   "pygments_lexer": "ipython3",
   "version": "3.12.4"
  }
 },
 "nbformat": 4,
 "nbformat_minor": 5
}
